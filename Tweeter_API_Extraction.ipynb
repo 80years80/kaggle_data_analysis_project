{
 "cells": [
  {
   "cell_type": "code",
   "execution_count": 1,
   "metadata": {},
   "outputs": [
    {
     "name": "stdout",
     "output_type": "stream",
     "text": [
      "Red Flag warning. You know what to do: have your go bag ready, know your escape routes beforehand. Be safe! #wildfires\n",
      "Get involved with #WildfirePrevention; learn how to protect your community &amp; keep your family safe from #wildfires.… https://t.co/ClMa8JqzSg\n",
      "Tis the seaon! Stay safe out there! #wildfires #TraverseFire https://t.co/4yguashb1l\n",
      "#extremeweatherevents (nh) #wildfires\n",
      "\n",
      "What is this doing to Russian forestry, permafrost and ongoing release of mo… https://t.co/WihupPkrD4\n",
      "Fireworks and overly dry conditions don't mix very well! #wildfire #wildfires #UtahFire #fireworks #drought https://t.co/m503Kz1VUR\n"
     ]
    }
   ],
   "source": [
    "import os\n",
    "import tweepy as tw\n",
    "import pandas as pd\n",
    "import json\n",
    "\n",
    "f = open('/home/pi/twitter_api_creds.json')\n",
    "creds = json.load(f)\n",
    "consumer_key = creds['consumer_key']\n",
    "consumer_secret = creds['consumer_secret']\n",
    "access_token = creds['access_token']\n",
    "access_token_secret = creds['access_token_secret']\n",
    "\n",
    "auth = tw.OAuthHandler(consumer_key, consumer_secret)\n",
    "auth.set_access_token(access_token, access_token_secret)\n",
    "api = tw.API(auth, wait_on_rate_limit=True)\n",
    "\n",
    "# Define the search term and the date_since date as variables\n",
    "search_words = \"#wildfires\"\n",
    "search_refined = search_words + \" -filter:retweets\"\n",
    "date_since = \"2018-11-16\"\n",
    "# Collect tweets\n",
    "tweets = tw.Cursor(api.search,\n",
    "              q=search_refined,\n",
    "              lang=\"en\",\n",
    "              since=date_since).items(5)\n",
    "for tweet in tweets:\n",
    "     print(tweet.text)"
   ]
  },
  {
   "cell_type": "code",
   "execution_count": 2,
   "metadata": {},
   "outputs": [
    {
     "data": {
      "text/html": [
       "<div>\n",
       "<style scoped>\n",
       "    .dataframe tbody tr th:only-of-type {\n",
       "        vertical-align: middle;\n",
       "    }\n",
       "\n",
       "    .dataframe tbody tr th {\n",
       "        vertical-align: top;\n",
       "    }\n",
       "\n",
       "    .dataframe thead th {\n",
       "        text-align: right;\n",
       "    }\n",
       "</style>\n",
       "<table border=\"1\" class=\"dataframe\">\n",
       "  <thead>\n",
       "    <tr style=\"text-align: right;\">\n",
       "      <th></th>\n",
       "      <th>user</th>\n",
       "      <th>location</th>\n",
       "    </tr>\n",
       "  </thead>\n",
       "  <tbody>\n",
       "    <tr>\n",
       "      <th>0</th>\n",
       "      <td>Defensible1</td>\n",
       "      <td></td>\n",
       "    </tr>\n",
       "    <tr>\n",
       "      <th>1</th>\n",
       "      <td>BLMFire</td>\n",
       "      <td>Boise, Idaho</td>\n",
       "    </tr>\n",
       "    <tr>\n",
       "      <th>2</th>\n",
       "      <td>psychomama05</td>\n",
       "      <td>Fly Over Country</td>\n",
       "    </tr>\n",
       "    <tr>\n",
       "      <th>3</th>\n",
       "      <td>Samoskal</td>\n",
       "      <td>Sydney</td>\n",
       "    </tr>\n",
       "    <tr>\n",
       "      <th>4</th>\n",
       "      <td>HeatherTesch</td>\n",
       "      <td></td>\n",
       "    </tr>\n",
       "  </tbody>\n",
       "</table>\n",
       "</div>"
      ],
      "text/plain": [
       "           user          location\n",
       "0   Defensible1                  \n",
       "1       BLMFire      Boise, Idaho\n",
       "2  psychomama05  Fly Over Country\n",
       "3      Samoskal            Sydney\n",
       "4  HeatherTesch                  "
      ]
     },
     "execution_count": 2,
     "metadata": {},
     "output_type": "execute_result"
    }
   ],
   "source": [
    "tweets = tw.Cursor(api.search, \n",
    "                           q=search_refined,\n",
    "                           lang=\"en\",\n",
    "                           since=date_since).items(5)\n",
    "\n",
    "users_locs = [[tweet.user.screen_name, tweet.user.location] for tweet in tweets]\n",
    "users_locs\n",
    "tweet_df = pd.DataFrame(data=users_locs, \n",
    "                    columns=['user', \"location\"])\n",
    "tweet_df"
   ]
  }
 ],
 "metadata": {
  "kernelspec": {
   "display_name": "Python 3",
   "language": "python",
   "name": "python3"
  },
  "language_info": {
   "codemirror_mode": {
    "name": "ipython",
    "version": 3
   },
   "file_extension": ".py",
   "mimetype": "text/x-python",
   "name": "python",
   "nbconvert_exporter": "python",
   "pygments_lexer": "ipython3",
   "version": "3.7.3"
  }
 },
 "nbformat": 4,
 "nbformat_minor": 4
}
