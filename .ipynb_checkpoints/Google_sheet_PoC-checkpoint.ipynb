{
 "cells": [
  {
   "cell_type": "code",
   "execution_count": 1,
   "metadata": {},
   "outputs": [
    {
     "name": "stdout",
     "output_type": "stream",
     "text": [
      "/home/pi/client_secret.json\n"
     ]
    },
    {
     "data": {
      "text/plain": [
       "{'spreadsheetId': '1YLnWNTjsHNhGe65tKdrU_8VRqsAVQmPy4hbqYWpWltw',\n",
       " 'updatedRange': 'Sheet1!A1:D2',\n",
       " 'updatedRows': 2,\n",
       " 'updatedColumns': 4,\n",
       " 'updatedCells': 8}"
      ]
     },
     "execution_count": 1,
     "metadata": {},
     "output_type": "execute_result"
    }
   ],
   "source": [
    "import httplib2\n",
    "import os\n",
    "\n",
    "from apiclient import discovery\n",
    "from google.oauth2 import service_account\n",
    "\n",
    "\n",
    "scopes = [\"https://www.googleapis.com/auth/drive\", \"https://www.googleapis.com/auth/drive.file\", \"https://www.googleapis.com/auth/spreadsheets\"]\n",
    "secret_file = '/home/pi/client_secret.json'\n",
    "\n",
    "\n",
    "spreadsheet_id = '1YLnWNTjsHNhGe65tKdrU_8VRqsAVQmPy4hbqYWpWltw'\n",
    "range_name = 'Sheet1!A1:D2'\n",
    "# print(secret_file)\n",
    "\n",
    "credentials = service_account.Credentials.from_service_account_file(secret_file, scopes=scopes)\n",
    "service = discovery.build('sheets', 'v4', credentials=credentials)\n",
    "##Below updates the sheet with sample data\n",
    "values = [['a1', 'b1', 'c1', 123], ['a2', 'b2', 'c2', 456],]\n",
    "\n",
    "data = {\n",
    "    'values' : values \n",
    "}\n",
    "service.spreadsheets().values().update(spreadsheetId=spreadsheet_id, body=data, range=range_name, valueInputOption='USER_ENTERED').execute()\n"
   ]
  }
 ],
 "metadata": {
  "kernelspec": {
   "display_name": "Python 3",
   "language": "python",
   "name": "python3"
  },
  "language_info": {
   "codemirror_mode": {
    "name": "ipython",
    "version": 3
   },
   "file_extension": ".py",
   "mimetype": "text/x-python",
   "name": "python",
   "nbconvert_exporter": "python",
   "pygments_lexer": "ipython3",
   "version": "3.7.3"
  }
 },
 "nbformat": 4,
 "nbformat_minor": 4
}
