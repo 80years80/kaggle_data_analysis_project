{
 "cells": [
  {
   "cell_type": "code",
   "execution_count": 1,
   "metadata": {},
   "outputs": [],
   "source": [
    "import pandas as pd\n",
    "import numpy as np\n",
    "import os\n",
    "import subprocess\n",
    "from kaggle.api.kaggle_api_extended import KaggleApi\n",
    "# Enabling Kaggle API\n",
    "api = KaggleApi()\n",
    "api.authenticate()\n",
    "# Directory path that file will be sent to\n",
    "saveTo = '/home/pi/kaggle_data_analysis_project/tempdata'\n",
    "#file_name for downloading\n",
    "name = 'WoW Demographics.csv'\n",
    "#FOR BETTER PRACTICE LATER:\n",
    "#WILL RENAME FILE VIA BASH COMMANDS\n",
    "#Download dataset as csv via API\n",
    "api.dataset_download_file('avenn98/world-of-warcraft-demographics', name, path=saveTo) #Should be csv\n",
    "#Now restriving the file we do not know the name of\n",
    "#Set directory we know we saved it to, make home directory path\n",
    "owd = '/home/pi/kaggle_data_analysis_project'\n",
    "os.chdir(saveTo)\n",
    "#There should be only one file in the directory, ls gets us the name\n",
    "os.system('ls')\n",
    "#get the name as a bytes, since ls used will have a newline\n",
    "returned_output = subprocess.check_output('ls')\n",
    "#decode into a string.\n",
    "#Remove newline; assuming no kaggle sets have newlines in the name\n",
    "#Should hold since all non-letters become ascii hex\n",
    "# https://ascii.cl/ \n",
    "#newline in ASCII is Symbol = LF; Hex = 0A; Dec = 10\n",
    "#Should be fine as is. \n",
    "fileName = returned_output.decode(\"utf-8\").rstrip('\\n')\n",
    "#get the full path now by combing path and name strings\n",
    "fullPath = saveTo + fileName\n",
    "#command string to rename file as it was entered but without spaces\n",
    "name = name.replace(\" \", \"\")\n",
    "cmd = 'mv ' + fileName + ' ' + name\n",
    "cmd\n",
    "#Enter command to rename file\n",
    "os.system(cmd)     \n",
    "#Return to home directory to end as good practice\n",
    "os.chdir(owd)"
   ]
  },
  {
   "cell_type": "code",
   "execution_count": null,
   "metadata": {},
   "outputs": [],
   "source": [
    "df = pd."
   ]
  }
 ],
 "metadata": {
  "kernelspec": {
   "display_name": "Python 3",
   "language": "python",
   "name": "python3"
  },
  "language_info": {
   "codemirror_mode": {
    "name": "ipython",
    "version": 3
   },
   "file_extension": ".py",
   "mimetype": "text/x-python",
   "name": "python",
   "nbconvert_exporter": "python",
   "pygments_lexer": "ipython3",
   "version": "3.7.3"
  }
 },
 "nbformat": 4,
 "nbformat_minor": 4
}
